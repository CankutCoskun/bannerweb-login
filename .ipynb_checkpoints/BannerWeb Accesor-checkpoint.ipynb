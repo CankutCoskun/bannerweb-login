{
 "cells": [
  {
   "cell_type": "markdown",
   "metadata": {},
   "source": [
    "Banner web access helper"
   ]
  },
  {
   "cell_type": "code",
   "execution_count": 78,
   "metadata": {},
   "outputs": [],
   "source": [
    "from  selenium import webdriver\n",
    "from selenium.common.exceptions import StaleElementReferenceException\n",
    "import time\n",
    "\n",
    "import os \n",
    "driver_path = os.getcwd() + \"/chromedriver\"\n",
    "print(driver_path)\n",
    "browser = webdriver.Chrome(executable_path=driver_path)\n",
    "\n",
    "username = input(\"Please insert your username\")\n",
    "\n",
    "password = input(\"Please input your password /n Dont worry we dont save your password :)\")\n",
    "\n",
    "\n",
    "browser.get(\"https://bannerweb.sabanciuniv.edu/\")\n",
    "\n",
    "enterButton = browser.find_element_by_xpath(\"html/body/h2/a\")\n",
    "\n",
    "currentUrl = browser.current_url\n",
    "\n",
    "print(type(currentUrl))\n",
    "print(currentUrl)\n",
    "\n",
    "\n",
    "while currentUrl != \"https://suis.sabanciuniv.edu/prod/twbkwbis.P_SabanciLogin\":\n",
    "    browser.get(\"https://bannerweb.sabanciuniv.edu/\")\n",
    "\n",
    "    enterButton.click()\n",
    "    \n",
    "    currentUrl = browser.current_url\n",
    "\n",
    "\n",
    "browser.get(\"https://suis.sabanciuniv.edu/prod/twbkwbis.P_SabanciLogin\")\n",
    "\n",
    "inputID = browser.find_element_by_id(\"UserID\")\n",
    "\n",
    "\n",
    "inputID.send_keys(username)\n",
    "\n",
    "inputPassword = browser.find_element_by_name(\"PIN\")\n",
    "\n",
    "inputPassword.send_keys(password)\n",
    "\n",
    "submit = browser.find_element_by_css_selector(\"input[value='Login'][type='submit']\")\n",
    "\n",
    "submit.click()\n",
    "\n",
    "stuButton = browser.find_element_by_link_text(\"Student\")\n",
    "\n",
    "stuButton.click()\n",
    "\n",
    "regButton = browser.find_element_by_link_text(\"Registration\")\n",
    "\n",
    "regButton.click()\n",
    "\n",
    "addClassButton = browser.find_element_by_link_text(\"Look-up Classes to Add\")\n",
    "\n",
    "addClassButton.click()\n",
    "\n"
   ]
  }
 ],
 "metadata": {
  "kernelspec": {
   "display_name": "Python 3",
   "language": "python",
   "name": "python3"
  },
  "language_info": {
   "codemirror_mode": {
    "name": "ipython",
    "version": 3
   },
   "file_extension": ".py",
   "mimetype": "text/x-python",
   "name": "python",
   "nbconvert_exporter": "python",
   "pygments_lexer": "ipython3",
   "version": "3.7.3"
  }
 },
 "nbformat": 4,
 "nbformat_minor": 2
}
